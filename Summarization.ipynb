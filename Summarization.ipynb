{
 "cells": [
  {
   "cell_type": "code",
   "execution_count": 1,
   "id": "3c8e1bd3",
   "metadata": {},
   "outputs": [
    {
     "name": "stderr",
     "output_type": "stream",
     "text": [
      "No model was supplied, defaulted to sshleifer/distilbart-cnn-12-6 and revision a4f8f3e (https://huggingface.co/sshleifer/distilbart-cnn-12-6).\n",
      "Using a pipeline without specifying a model name and revision in production is not recommended.\n",
      "Device set to use cpu\n"
     ]
    }
   ],
   "source": [
    "from transformers import pipeline\n",
    "\n",
    "summarizer = pipeline(\"summarization\", device=-1)\n",
    "\n",
    "def summarize_text(text):\n",
    "    summary = summarizer(text, max_length=150, min_length=50, do_sample=False)\n",
    "    return summary[0]['summary_text']\n"
   ]
  },
  {
   "cell_type": "code",
   "execution_count": 2,
   "id": "b167bd1a",
   "metadata": {},
   "outputs": [
    {
     "name": "stdout",
     "output_type": "stream",
     "text": [
      " We propose a new simple network architecture, the Transformer, based solely on attention mechanisms, dispensing with recurrence and convolutions . Experiments on two machine translation tasks show these models to be superior in quality while being more parallelizable and require significantly less time to train .\n"
     ]
    }
   ],
   "source": [
    "text = \"\"\"The dominant sequence transduction models are based on complex recurrent or\n",
    "convolutional neural networks that include an encoder and a decoder. The best\n",
    "performing models also connect the encoder and decoder through an attention\n",
    "mechanism. We propose a new simple network architecture, the Transformer,\n",
    "based solely on attention mechanisms, dispensing with recurrence and convolutions\n",
    "entirely. Experiments on two machine translation tasks show these models to\n",
    "be superior in quality while being more parallelizable and requiring significantly\n",
    "less time to train. Our model achieves 28.4 BLEU on the WMT 2014 Englishto-German translation task, improving over the existing best results, including\n",
    "ensembles, by over 2 BLEU. On the WMT 2014 English-to-French translation task,\n",
    "our model establishes a new single-model state-of-the-art BLEU score of 41.8 after\n",
    "training for 3.5 days on eight GPUs, a small fraction of the training costs of the\n",
    "best models from the literature. We show that the Transformer generalizes well to\n",
    "other tasks by applying it successfully to English constituency parsing both with\n",
    "large and limited training data.\"\"\"\n",
    "\n",
    "print(summarize_text(text))\n"
   ]
  },
  {
   "cell_type": "code",
   "execution_count": null,
   "id": "fc142747",
   "metadata": {},
   "outputs": [],
   "source": [
    "import streamlit as st\n",
    "\n",
    "st.title(\"AI Text Summarizer\")\n",
    "\n",
    "user_input = st.text_area(\"Enter text to summarize:\")\n",
    "\n",
    "if st.button(\"Summarize\"):\n",
    "    summary = summarize_text(user_input)\n",
    "    st.write(\"### Summary:\")\n",
    "    st.write(summary)"
   ]
  },
  {
   "cell_type": "code",
   "execution_count": null,
   "id": "bec1d8ef",
   "metadata": {},
   "outputs": [],
   "source": []
  },
  {
   "cell_type": "code",
   "execution_count": null,
   "id": "995cb9b1",
   "metadata": {},
   "outputs": [],
   "source": []
  }
 ],
 "metadata": {
  "kernelspec": {
   "display_name": "Python 3 (ipykernel)",
   "language": "python",
   "name": "python3"
  },
  "language_info": {
   "codemirror_mode": {
    "name": "ipython",
    "version": 3
   },
   "file_extension": ".py",
   "mimetype": "text/x-python",
   "name": "python",
   "nbconvert_exporter": "python",
   "pygments_lexer": "ipython3",
   "version": "3.9.13"
  }
 },
 "nbformat": 4,
 "nbformat_minor": 5
}
